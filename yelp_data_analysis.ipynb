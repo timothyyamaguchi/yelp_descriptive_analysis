{
 "cells": [
  {
   "cell_type": "markdown",
   "metadata": {},
   "source": [
    "# Yelp Data Analysis"
   ]
  },
  {
   "cell_type": "markdown",
   "metadata": {},
   "source": [
    "This notebook contains code used to analyze data from Yelp restaurants in the State of Arizona"
   ]
  },
  {
   "cell_type": "code",
   "execution_count": 1,
   "metadata": {},
   "outputs": [
    {
     "name": "stderr",
     "output_type": "stream",
     "text": [
      "c:\\users\\timoth~1\\desktop\\python~1\\yelp_p~1\\yelp_p~1\\lib\\site-packages\\sklearn\\cross_validation.py:41: DeprecationWarning: This module was deprecated in version 0.18 in favor of the model_selection module into which all the refactored classes and functions are moved. Also note that the interface of the new CV iterators are different from that of this module. This module will be removed in 0.20.\n",
      "  \"This module will be removed in 0.20.\", DeprecationWarning)\n"
     ]
    }
   ],
   "source": [
    "# Importing the modules\n",
    "import numpy as np\n",
    "import pandas as pd\n",
    "import statsmodels.formula.api as smf\n",
    "from sklearn.cross_validation import train_test_split"
   ]
  },
  {
   "cell_type": "code",
   "execution_count": 2,
   "metadata": {},
   "outputs": [],
   "source": [
    "# Importing the dataset\n",
    "df = pd.read_csv('yelp_data.csv') # importing the dataset\n",
    "df = df*1 # changing boolean variables to 1 and 0"
   ]
  },
  {
   "cell_type": "code",
   "execution_count": 3,
   "metadata": {},
   "outputs": [],
   "source": [
    "# Separating out to binary variables\n",
    "alcohol = pd.get_dummies(df['Business - Alcohol'])\n",
    "attire = pd.get_dummies(df['Business - Attire'])\n",
    "corkage = pd.get_dummies(df['Business - BYOB/Corkage'])\n",
    "noise = pd.get_dummies(df['Business - Noise Level'])\n",
    "smoking = pd.get_dummies(df['Business - Smoking'])\n",
    "wifi= pd.get_dummies(df['Business - Wi-Fi'])"
   ]
  },
  {
   "cell_type": "code",
   "execution_count": 4,
   "metadata": {},
   "outputs": [],
   "source": [
    "# Merging the dataframes back together\n",
    "frames = [df, alcohol, attire, corkage, noise, smoking, wifi]\n",
    "yelp_test = pd.concat(frames, axis=1)"
   ]
  },
  {
   "cell_type": "code",
   "execution_count": 5,
   "metadata": {},
   "outputs": [],
   "source": [
    "# Removing the unnecessary columns\n",
    "del yelp_test['Business - Alcohol']\n",
    "del yelp_test['Business - Attire']\n",
    "del yelp_test['Business - BYOB/Corkage']\n",
    "del yelp_test['Business - Noise Level']\n",
    "del yelp_test['Business - Smoking']\n",
    "del yelp_test['Business - Wi-Fi']\n",
    "yelp_test.fillna(0,inplace=True) # replacing all n/a datapoints to 0"
   ]
  },
  {
   "cell_type": "code",
   "execution_count": 6,
   "metadata": {},
   "outputs": [],
   "source": [
    "# Cleaning the dataframe's columns\n",
    "yelp_test.columns.values[30] = 'no_bar'\n",
    "yelp_test.columns.values[34] = 'no_corkage'\n",
    "yelp_test.columns.values[36] = 'free_corkage'\n",
    "yelp_test.columns.values[37] = 'average_noise'\n",
    "yelp_test.columns.values[41] = 'no_smoking'\n",
    "yelp_test.columns.values[42] = 'outdoor_smoking'\n",
    "yelp_test.columns.values[43] = 'yes_smoking'\n",
    "yelp_test.columns.values[44] = 'free_wifi'\n",
    "yelp_test.columns.values[45] = 'no_wifi'\n",
    "yelp_test.columns.values[46] = 'paid_wifi'"
   ]
  },
  {
   "cell_type": "code",
   "execution_count": 7,
   "metadata": {},
   "outputs": [],
   "source": [
    "# Creating X and Y variables for regression\n",
    "X = yelp_test.drop('Business - Stars', axis = 1) # removing Y variable\n",
    "X = X.drop('Business - Id', axis = 1) # removing index\n",
    "X = X.drop('User - Id', axis = 1) # removing index\n",
    "Y = yelp_test['Business - Stars']"
   ]
  },
  {
   "cell_type": "code",
   "execution_count": 8,
   "metadata": {},
   "outputs": [],
   "source": [
    "# Removing dummy variables to avoid multicolinearity\n",
    "X = X.drop('no_bar', axis = 1)\n",
    "X = X.drop('formal', axis = 1)\n",
    "X = X.drop('free_corkage', axis = 1)\n",
    "X = X.drop('very_loud', axis = 1)\n",
    "X = X.drop('yes_smoking', axis = 1)\n",
    "X = X.drop('paid_wifi', axis = 1)"
   ]
  },
  {
   "cell_type": "code",
   "execution_count": 9,
   "metadata": {},
   "outputs": [],
   "source": [
    "# Module does not take into account a b0 constant need to add an x0\n",
    "X['Intercept'] = 1"
   ]
  },
  {
   "cell_type": "code",
   "execution_count": 10,
   "metadata": {},
   "outputs": [
    {
     "name": "stdout",
     "output_type": "stream",
     "text": [
      "                            OLS Regression Results                            \n",
      "==============================================================================\n",
      "Dep. Variable:       Business - Stars   R-squared:                       0.326\n",
      "Model:                            OLS   Adj. R-squared:                  0.326\n",
      "Method:                 Least Squares   F-statistic:                     3644.\n",
      "Date:                Sat, 16 Sep 2017   Prob (F-statistic):               0.00\n",
      "Time:                        13:11:20   Log-Likelihood:            -1.6257e+05\n",
      "No. Observations:              285764   AIC:                         3.252e+05\n",
      "Df Residuals:                  285725   BIC:                         3.256e+05\n",
      "Df Model:                          38                                         \n",
      "Covariance Type:            nonrobust                                         \n",
      "====================================================================================================\n",
      "                                       coef    std err          t      P>|t|      [0.025      0.975]\n",
      "----------------------------------------------------------------------------------------------------\n",
      "Business - Accepts Credit Cards      0.0263      0.008      3.346      0.001       0.011       0.042\n",
      "Business - BYOB                      0.0545      0.012      4.356      0.000       0.030       0.079\n",
      "Business - Caters                    0.0866      0.002     49.806      0.000       0.083       0.090\n",
      "Business - Coat Check               -0.1742      0.015    -11.336      0.000      -0.204      -0.144\n",
      "Business - Corkage                   0.0614      0.010      6.322      0.000       0.042       0.080\n",
      "Business - Delivery                 -0.0714      0.003    -26.936      0.000      -0.077      -0.066\n",
      "Business - Dogs Allowed              0.0267      0.003      8.295      0.000       0.020       0.033\n",
      "Business - Drive-Thru               -0.1541      0.005    -28.344      0.000      -0.165      -0.143\n",
      "Business - Good For Dancing         -0.0139      0.007     -1.876      0.061      -0.028       0.001\n",
      "Business - Good For Groups           0.0070      0.003      2.154      0.031       0.001       0.013\n",
      "Business - Good For Kids            -0.0353      0.002    -15.208      0.000      -0.040      -0.031\n",
      "Business - Good for Kids            -0.0185      0.003     -7.375      0.000      -0.023      -0.014\n",
      "Business - Happy Hour               -0.0265      0.006     -4.631      0.000      -0.038      -0.015\n",
      "Business - Has TV                   -0.0616      0.002    -32.856      0.000      -0.065      -0.058\n",
      "Business - Open 24 Hours            -0.2881      0.065     -4.466      0.000      -0.415      -0.162\n",
      "Business - Order at Counter         -0.0784      0.004    -19.530      0.000      -0.086      -0.071\n",
      "Business - Outdoor Seating           0.0024      0.002      1.254      0.210      -0.001       0.006\n",
      "Business - Price Range              -0.0329      0.002    -15.574      0.000      -0.037      -0.029\n",
      "Business - Take-out                  0.0372      0.004      8.980      0.000       0.029       0.045\n",
      "Business - Takes Reservations        0.0001      0.002      0.060      0.952      -0.004       0.004\n",
      "Business - Waiter Service           -0.0149      0.003     -5.697      0.000      -0.020      -0.010\n",
      "Business - Wheelchair Accessible    -0.0318      0.002    -14.638      0.000      -0.036      -0.028\n",
      "User - Average Stars                -0.0095      0.001     -6.803      0.000      -0.012      -0.007\n",
      "Business - Review Count              0.0008   4.75e-06    170.228      0.000       0.001       0.001\n",
      "Review - Stars                       0.1258      0.001    168.212      0.000       0.124       0.127\n",
      "beer_and_wine                        0.0133      0.003      4.836      0.000       0.008       0.019\n",
      "full_bar                            -0.1120      0.003    -37.021      0.000      -0.118      -0.106\n",
      "casual                               0.1119      0.011     10.364      0.000       0.091       0.133\n",
      "dressy                               0.3861      0.012     31.850      0.000       0.362       0.410\n",
      "no_corkage                          -0.0023      0.002     -0.923      0.356      -0.007       0.003\n",
      "yes_corkage                         -0.0421      0.010     -4.308      0.000      -0.061      -0.023\n",
      "average_noise                        0.3516      0.005     73.196      0.000       0.342       0.361\n",
      "loud                                 0.1618      0.006     28.997      0.000       0.151       0.173\n",
      "quiet                                0.4182      0.005     79.611      0.000       0.408       0.428\n",
      "no_smoking                           0.0235      0.006      3.920      0.000       0.012       0.035\n",
      "outdoor_smoking                     -0.0193      0.006     -3.229      0.001      -0.031      -0.008\n",
      "free_wifi                            0.1586      0.003     45.542      0.000       0.152       0.165\n",
      "no_wifi                              0.1303      0.003     39.610      0.000       0.124       0.137\n",
      "Intercept                            2.6907      0.012    227.203      0.000       2.668       2.714\n",
      "==============================================================================\n",
      "Omnibus:                    15854.965   Durbin-Watson:                   1.861\n",
      "Prob(Omnibus):                  0.000   Jarque-Bera (JB):            25159.271\n",
      "Skew:                          -0.469   Prob(JB):                         0.00\n",
      "Kurtosis:                       4.111   Cond. No.                     2.29e+04\n",
      "==============================================================================\n",
      "\n",
      "Warnings:\n",
      "[1] Standard Errors assume that the covariance matrix of the errors is correctly specified.\n",
      "[2] The condition number is large, 2.29e+04. This might indicate that there are\n",
      "strong multicollinearity or other numerical problems.\n"
     ]
    }
   ],
   "source": [
    "# Prepping for Backward Elmination to Remove Unimportant Variables\n",
    "# Dropping the variable with the Highest P-Value if it is greater than 0.05\n",
    "# Running the regression\n",
    "result = smf.OLS(Y, X.astype(float)).fit()\n",
    "print result.summary()"
   ]
  },
  {
   "cell_type": "code",
   "execution_count": 11,
   "metadata": {},
   "outputs": [
    {
     "name": "stdout",
     "output_type": "stream",
     "text": [
      "                            OLS Regression Results                            \n",
      "==============================================================================\n",
      "Dep. Variable:       Business - Stars   R-squared:                       0.326\n",
      "Model:                            OLS   Adj. R-squared:                  0.326\n",
      "Method:                 Least Squares   F-statistic:                     3742.\n",
      "Date:                Sat, 16 Sep 2017   Prob (F-statistic):               0.00\n",
      "Time:                        13:11:57   Log-Likelihood:            -1.6257e+05\n",
      "No. Observations:              285764   AIC:                         3.252e+05\n",
      "Df Residuals:                  285726   BIC:                         3.256e+05\n",
      "Df Model:                          37                                         \n",
      "Covariance Type:            nonrobust                                         \n",
      "====================================================================================================\n",
      "                                       coef    std err          t      P>|t|      [0.025      0.975]\n",
      "----------------------------------------------------------------------------------------------------\n",
      "Business - Accepts Credit Cards      0.0263      0.008      3.346      0.001       0.011       0.042\n",
      "Business - BYOB                      0.0544      0.012      4.356      0.000       0.030       0.079\n",
      "Business - Caters                    0.0866      0.002     50.012      0.000       0.083       0.090\n",
      "Business - Coat Check               -0.1742      0.015    -11.336      0.000      -0.204      -0.144\n",
      "Business - Corkage                   0.0614      0.010      6.324      0.000       0.042       0.080\n",
      "Business - Delivery                 -0.0714      0.003    -26.944      0.000      -0.077      -0.066\n",
      "Business - Dogs Allowed              0.0267      0.003      8.325      0.000       0.020       0.033\n",
      "Business - Drive-Thru               -0.1541      0.005    -28.355      0.000      -0.165      -0.143\n",
      "Business - Good For Dancing         -0.0139      0.007     -1.884      0.060      -0.028       0.001\n",
      "Business - Good For Groups           0.0070      0.003      2.167      0.030       0.001       0.013\n",
      "Business - Good For Kids            -0.0353      0.002    -15.231      0.000      -0.040      -0.031\n",
      "Business - Good for Kids            -0.0185      0.003     -7.403      0.000      -0.023      -0.014\n",
      "Business - Happy Hour               -0.0265      0.006     -4.631      0.000      -0.038      -0.015\n",
      "Business - Has TV                   -0.0616      0.002    -32.872      0.000      -0.065      -0.058\n",
      "Business - Open 24 Hours            -0.2881      0.065     -4.466      0.000      -0.415      -0.162\n",
      "Business - Order at Counter         -0.0784      0.004    -19.532      0.000      -0.086      -0.071\n",
      "Business - Outdoor Seating           0.0024      0.002      1.254      0.210      -0.001       0.006\n",
      "Business - Price Range              -0.0329      0.002    -15.773      0.000      -0.037      -0.029\n",
      "Business - Take-out                  0.0372      0.004      8.980      0.000       0.029       0.045\n",
      "Business - Waiter Service           -0.0149      0.003     -5.786      0.000      -0.020      -0.010\n",
      "Business - Wheelchair Accessible    -0.0318      0.002    -14.652      0.000      -0.036      -0.028\n",
      "User - Average Stars                -0.0095      0.001     -6.803      0.000      -0.012      -0.007\n",
      "Business - Review Count              0.0008   4.75e-06    170.320      0.000       0.001       0.001\n",
      "Review - Stars                       0.1258      0.001    168.213      0.000       0.124       0.127\n",
      "beer_and_wine                        0.0133      0.003      4.862      0.000       0.008       0.019\n",
      "full_bar                            -0.1120      0.003    -38.090      0.000      -0.118      -0.106\n",
      "casual                               0.1119      0.011     10.368      0.000       0.091       0.133\n",
      "dressy                               0.3860      0.012     31.865      0.000       0.362       0.410\n",
      "no_corkage                          -0.0023      0.002     -0.921      0.357      -0.007       0.003\n",
      "yes_corkage                         -0.0421      0.010     -4.308      0.000      -0.061      -0.023\n",
      "average_noise                        0.3516      0.005     73.200      0.000       0.342       0.361\n",
      "loud                                 0.1618      0.006     29.001      0.000       0.151       0.173\n",
      "quiet                                0.4182      0.005     79.717      0.000       0.408       0.428\n",
      "no_smoking                           0.0235      0.006      3.921      0.000       0.012       0.035\n",
      "outdoor_smoking                     -0.0193      0.006     -3.234      0.001      -0.031      -0.008\n",
      "free_wifi                            0.1586      0.003     45.544      0.000       0.152       0.165\n",
      "no_wifi                              0.1303      0.003     39.612      0.000       0.124       0.137\n",
      "Intercept                            2.6907      0.012    227.226      0.000       2.668       2.714\n",
      "==============================================================================\n",
      "Omnibus:                    15855.126   Durbin-Watson:                   1.861\n",
      "Prob(Omnibus):                  0.000   Jarque-Bera (JB):            25159.450\n",
      "Skew:                          -0.469   Prob(JB):                         0.00\n",
      "Kurtosis:                       4.111   Cond. No.                     2.29e+04\n",
      "==============================================================================\n",
      "\n",
      "Warnings:\n",
      "[1] Standard Errors assume that the covariance matrix of the errors is correctly specified.\n",
      "[2] The condition number is large, 2.29e+04. This might indicate that there are\n",
      "strong multicollinearity or other numerical problems.\n"
     ]
    }
   ],
   "source": [
    "# Dropping the Business - Takes Reservations Variable\n",
    "X_drop_reservations = X.drop('Business - Takes Reservations', axis = 1)\n",
    "\n",
    "# Running the regression\n",
    "result = smf.OLS(Y, X_drop_reservations.astype(float)).fit()\n",
    "print result.summary()"
   ]
  },
  {
   "cell_type": "code",
   "execution_count": 12,
   "metadata": {},
   "outputs": [
    {
     "name": "stdout",
     "output_type": "stream",
     "text": [
      "                            OLS Regression Results                            \n",
      "==============================================================================\n",
      "Dep. Variable:       Business - Stars   R-squared:                       0.326\n",
      "Model:                            OLS   Adj. R-squared:                  0.326\n",
      "Method:                 Least Squares   F-statistic:                     3956.\n",
      "Date:                Sat, 16 Sep 2017   Prob (F-statistic):               0.00\n",
      "Time:                        13:12:25   Log-Likelihood:            -1.6258e+05\n",
      "No. Observations:              285764   AIC:                         3.252e+05\n",
      "Df Residuals:                  285728   BIC:                         3.256e+05\n",
      "Df Model:                          35                                         \n",
      "Covariance Type:            nonrobust                                         \n",
      "====================================================================================================\n",
      "                                       coef    std err          t      P>|t|      [0.025      0.975]\n",
      "----------------------------------------------------------------------------------------------------\n",
      "Business - Accepts Credit Cards      0.0256      0.008      3.262      0.001       0.010       0.041\n",
      "Business - BYOB                      0.0627      0.012      5.075      0.000       0.038       0.087\n",
      "Business - Caters                    0.0861      0.002     49.857      0.000       0.083       0.090\n",
      "Business - Coat Check               -0.1746      0.015    -11.372      0.000      -0.205      -0.145\n",
      "Business - Corkage                   0.0313      0.007      4.670      0.000       0.018       0.044\n",
      "Business - Delivery                 -0.0711      0.003    -26.856      0.000      -0.076      -0.066\n",
      "Business - Dogs Allowed              0.0259      0.003      8.100      0.000       0.020       0.032\n",
      "Business - Drive-Thru               -0.1543      0.005    -28.413      0.000      -0.165      -0.144\n",
      "Business - Good For Dancing         -0.0131      0.007     -1.775      0.076      -0.028       0.001\n",
      "Business - Good For Groups           0.0077      0.003      2.387      0.017       0.001       0.014\n",
      "Business - Good For Kids            -0.0365      0.002    -16.192      0.000      -0.041      -0.032\n",
      "Business - Good for Kids            -0.0179      0.002     -7.176      0.000      -0.023      -0.013\n",
      "Business - Happy Hour               -0.0266      0.006     -4.661      0.000      -0.038      -0.015\n",
      "Business - Has TV                   -0.0615      0.002    -32.847      0.000      -0.065      -0.058\n",
      "Business - Open 24 Hours            -0.2895      0.064     -4.488      0.000      -0.416      -0.163\n",
      "Business - Order at Counter         -0.0782      0.004    -19.632      0.000      -0.086      -0.070\n",
      "Business - Outdoor Seating           0.0022      0.002      1.121      0.262      -0.002       0.006\n",
      "Business - Price Range              -0.0324      0.002    -15.614      0.000      -0.037      -0.028\n",
      "Business - Take-out                  0.0389      0.004      9.430      0.000       0.031       0.047\n",
      "Business - Waiter Service           -0.0152      0.003     -5.903      0.000      -0.020      -0.010\n",
      "Business - Wheelchair Accessible    -0.0320      0.002    -14.770      0.000      -0.036      -0.028\n",
      "User - Average Stars                -0.0095      0.001     -6.800      0.000      -0.012      -0.007\n",
      "Business - Review Count              0.0008   4.73e-06    171.020      0.000       0.001       0.001\n",
      "Review - Stars                       0.1258      0.001    168.217      0.000       0.124       0.127\n",
      "beer_and_wine                        0.0130      0.003      4.764      0.000       0.008       0.018\n",
      "full_bar                            -0.1124      0.003    -38.239      0.000      -0.118      -0.107\n",
      "casual                               0.1108      0.011     10.274      0.000       0.090       0.132\n",
      "dressy                               0.3862      0.012     31.879      0.000       0.362       0.410\n",
      "average_noise                        0.3515      0.005     73.187      0.000       0.342       0.361\n",
      "loud                                 0.1618      0.006     28.999      0.000       0.151       0.173\n",
      "quiet                                0.4180      0.005     79.679      0.000       0.408       0.428\n",
      "no_smoking                           0.0236      0.006      3.939      0.000       0.012       0.035\n",
      "outdoor_smoking                     -0.0193      0.006     -3.239      0.001      -0.031      -0.008\n",
      "free_wifi                            0.1588      0.003     45.594      0.000       0.152       0.166\n",
      "no_wifi                              0.1302      0.003     39.600      0.000       0.124       0.137\n",
      "Intercept                            2.6897      0.012    227.190      0.000       2.666       2.713\n",
      "==============================================================================\n",
      "Omnibus:                    15845.863   Durbin-Watson:                   1.861\n",
      "Prob(Omnibus):                  0.000   Jarque-Bera (JB):            25137.637\n",
      "Skew:                          -0.468   Prob(JB):                         0.00\n",
      "Kurtosis:                       4.111   Cond. No.                     2.29e+04\n",
      "==============================================================================\n",
      "\n",
      "Warnings:\n",
      "[1] Standard Errors assume that the covariance matrix of the errors is correctly specified.\n",
      "[2] The condition number is large, 2.29e+04. This might indicate that there are\n",
      "strong multicollinearity or other numerical problems.\n"
     ]
    }
   ],
   "source": [
    "# Dropping the Corkage Variables\n",
    "# Please note some variables were removed previously as a result of multicolinarity\n",
    "X_drop_corkage = X_drop_reservations.drop('no_corkage', axis = 1)\n",
    "X_drop_corkage = X_drop_corkage.drop('yes_corkage', axis = 1)\n",
    "\n",
    "# Running the regression\n",
    "result = smf.OLS(Y, X_drop_corkage.astype(float)).fit()\n",
    "print result.summary()"
   ]
  },
  {
   "cell_type": "code",
   "execution_count": 13,
   "metadata": {},
   "outputs": [
    {
     "name": "stdout",
     "output_type": "stream",
     "text": [
      "                            OLS Regression Results                            \n",
      "==============================================================================\n",
      "Dep. Variable:       Business - Stars   R-squared:                       0.326\n",
      "Model:                            OLS   Adj. R-squared:                  0.326\n",
      "Method:                 Least Squares   F-statistic:                     4072.\n",
      "Date:                Sat, 16 Sep 2017   Prob (F-statistic):               0.00\n",
      "Time:                        13:13:04   Log-Likelihood:            -1.6258e+05\n",
      "No. Observations:              285764   AIC:                         3.252e+05\n",
      "Df Residuals:                  285729   BIC:                         3.256e+05\n",
      "Df Model:                          34                                         \n",
      "Covariance Type:            nonrobust                                         \n",
      "====================================================================================================\n",
      "                                       coef    std err          t      P>|t|      [0.025      0.975]\n",
      "----------------------------------------------------------------------------------------------------\n",
      "Business - Accepts Credit Cards      0.0254      0.008      3.238      0.001       0.010       0.041\n",
      "Business - BYOB                      0.0625      0.012      5.061      0.000       0.038       0.087\n",
      "Business - Caters                    0.0863      0.002     50.089      0.000       0.083       0.090\n",
      "Business - Coat Check               -0.1751      0.015    -11.409      0.000      -0.205      -0.145\n",
      "Business - Corkage                   0.0317      0.007      4.734      0.000       0.019       0.045\n",
      "Business - Delivery                 -0.0712      0.003    -26.921      0.000      -0.076      -0.066\n",
      "Business - Dogs Allowed              0.0262      0.003      8.236      0.000       0.020       0.032\n",
      "Business - Drive-Thru               -0.1543      0.005    -28.411      0.000      -0.165      -0.144\n",
      "Business - Good For Dancing         -0.0130      0.007     -1.767      0.077      -0.028       0.001\n",
      "Business - Good For Groups           0.0079      0.003      2.434      0.015       0.002       0.014\n",
      "Business - Good For Kids            -0.0365      0.002    -16.218      0.000      -0.041      -0.032\n",
      "Business - Good for Kids            -0.0179      0.002     -7.194      0.000      -0.023      -0.013\n",
      "Business - Happy Hour               -0.0264      0.006     -4.620      0.000      -0.038      -0.015\n",
      "Business - Has TV                   -0.0615      0.002    -32.867      0.000      -0.065      -0.058\n",
      "Business - Open 24 Hours            -0.2895      0.064     -4.488      0.000      -0.416      -0.163\n",
      "Business - Order at Counter         -0.0784      0.004    -19.687      0.000      -0.086      -0.071\n",
      "Business - Price Range              -0.0322      0.002    -15.574      0.000      -0.036      -0.028\n",
      "Business - Take-out                  0.0393      0.004      9.542      0.000       0.031       0.047\n",
      "Business - Waiter Service           -0.0158      0.003     -6.274      0.000      -0.021      -0.011\n",
      "Business - Wheelchair Accessible    -0.0320      0.002    -14.775      0.000      -0.036      -0.028\n",
      "User - Average Stars                -0.0095      0.001     -6.789      0.000      -0.012      -0.007\n",
      "Business - Review Count              0.0008   4.72e-06    171.354      0.000       0.001       0.001\n",
      "Review - Stars                       0.1258      0.001    168.214      0.000       0.124       0.127\n",
      "beer_and_wine                        0.0131      0.003      4.786      0.000       0.008       0.018\n",
      "full_bar                            -0.1119      0.003    -38.522      0.000      -0.118      -0.106\n",
      "casual                               0.1113      0.011     10.333      0.000       0.090       0.132\n",
      "dressy                               0.3867      0.012     31.941      0.000       0.363       0.410\n",
      "average_noise                        0.3518      0.005     73.337      0.000       0.342       0.361\n",
      "loud                                 0.1621      0.006     29.097      0.000       0.151       0.173\n",
      "quiet                                0.4179      0.005     79.672      0.000       0.408       0.428\n",
      "no_smoking                           0.0234      0.006      3.915      0.000       0.012       0.035\n",
      "outdoor_smoking                     -0.0192      0.006     -3.223      0.001      -0.031      -0.008\n",
      "free_wifi                            0.1592      0.003     45.933      0.000       0.152       0.166\n",
      "no_wifi                              0.1302      0.003     39.619      0.000       0.124       0.137\n",
      "Intercept                            2.6896      0.012    227.188      0.000       2.666       2.713\n",
      "==============================================================================\n",
      "Omnibus:                    15874.948   Durbin-Watson:                   1.861\n",
      "Prob(Omnibus):                  0.000   Jarque-Bera (JB):            25193.978\n",
      "Skew:                          -0.469   Prob(JB):                         0.00\n",
      "Kurtosis:                       4.112   Cond. No.                     2.29e+04\n",
      "==============================================================================\n",
      "\n",
      "Warnings:\n",
      "[1] Standard Errors assume that the covariance matrix of the errors is correctly specified.\n",
      "[2] The condition number is large, 2.29e+04. This might indicate that there are\n",
      "strong multicollinearity or other numerical problems.\n"
     ]
    }
   ],
   "source": [
    "# Dropping the Outdoor Seating Variable\n",
    "X_drop_seating = X_drop_corkage.drop('Business - Outdoor Seating', axis = 1)\n",
    "\n",
    "# Running the regression\n",
    "result = smf.OLS(Y, X_drop_seating.astype(float)).fit()\n",
    "print result.summary()"
   ]
  },
  {
   "cell_type": "code",
   "execution_count": 14,
   "metadata": {},
   "outputs": [
    {
     "name": "stdout",
     "output_type": "stream",
     "text": [
      "                            OLS Regression Results                            \n",
      "==============================================================================\n",
      "Dep. Variable:       Business - Stars   R-squared:                       0.326\n",
      "Model:                            OLS   Adj. R-squared:                  0.326\n",
      "Method:                 Least Squares   F-statistic:                     4195.\n",
      "Date:                Sat, 16 Sep 2017   Prob (F-statistic):               0.00\n",
      "Time:                        13:13:26   Log-Likelihood:            -1.6258e+05\n",
      "No. Observations:              285764   AIC:                         3.252e+05\n",
      "Df Residuals:                  285730   BIC:                         3.256e+05\n",
      "Df Model:                          33                                         \n",
      "Covariance Type:            nonrobust                                         \n",
      "====================================================================================================\n",
      "                                       coef    std err          t      P>|t|      [0.025      0.975]\n",
      "----------------------------------------------------------------------------------------------------\n",
      "Business - Accepts Credit Cards      0.0253      0.008      3.220      0.001       0.010       0.041\n",
      "Business - BYOB                      0.0626      0.012      5.067      0.000       0.038       0.087\n",
      "Business - Caters                    0.0863      0.002     50.126      0.000       0.083       0.090\n",
      "Business - Coat Check               -0.1747      0.015    -11.381      0.000      -0.205      -0.145\n",
      "Business - Corkage                   0.0316      0.007      4.732      0.000       0.019       0.045\n",
      "Business - Delivery                 -0.0712      0.003    -26.920      0.000      -0.076      -0.066\n",
      "Business - Dogs Allowed              0.0261      0.003      8.207      0.000       0.020       0.032\n",
      "Business - Drive-Thru               -0.1541      0.005    -28.379      0.000      -0.165      -0.143\n",
      "Business - Good For Groups           0.0078      0.003      2.402      0.016       0.001       0.014\n",
      "Business - Good For Kids            -0.0366      0.002    -16.226      0.000      -0.041      -0.032\n",
      "Business - Good for Kids            -0.0176      0.002     -7.094      0.000      -0.023      -0.013\n",
      "Business - Happy Hour               -0.0271      0.006     -4.762      0.000      -0.038      -0.016\n",
      "Business - Has TV                   -0.0616      0.002    -32.894      0.000      -0.065      -0.058\n",
      "Business - Open 24 Hours            -0.2891      0.064     -4.483      0.000      -0.416      -0.163\n",
      "Business - Order at Counter         -0.0785      0.004    -19.725      0.000      -0.086      -0.071\n",
      "Business - Price Range              -0.0320      0.002    -15.487      0.000      -0.036      -0.028\n",
      "Business - Take-out                  0.0397      0.004      9.647      0.000       0.032       0.048\n",
      "Business - Waiter Service           -0.0158      0.003     -6.272      0.000      -0.021      -0.011\n",
      "Business - Wheelchair Accessible    -0.0320      0.002    -14.768      0.000      -0.036      -0.028\n",
      "User - Average Stars                -0.0095      0.001     -6.787      0.000      -0.012      -0.007\n",
      "Business - Review Count              0.0008    4.7e-06    172.468      0.000       0.001       0.001\n",
      "Review - Stars                       0.1258      0.001    168.217      0.000       0.124       0.127\n",
      "beer_and_wine                        0.0130      0.003      4.744      0.000       0.008       0.018\n",
      "full_bar                            -0.1121      0.003    -38.616      0.000      -0.118      -0.106\n",
      "casual                               0.1106      0.011     10.273      0.000       0.090       0.132\n",
      "dressy                               0.3860      0.012     31.900      0.000       0.362       0.410\n",
      "average_noise                        0.3522      0.005     73.538      0.000       0.343       0.362\n",
      "loud                                 0.1618      0.006     29.052      0.000       0.151       0.173\n",
      "quiet                                0.4184      0.005     79.863      0.000       0.408       0.429\n",
      "no_smoking                           0.0238      0.006      3.983      0.000       0.012       0.036\n",
      "outdoor_smoking                     -0.0198      0.006     -3.316      0.001      -0.031      -0.008\n",
      "free_wifi                            0.1591      0.003     45.921      0.000       0.152       0.166\n",
      "no_wifi                              0.1300      0.003     39.585      0.000       0.124       0.136\n",
      "Intercept                            2.6891      0.012    227.203      0.000       2.666       2.712\n",
      "==============================================================================\n",
      "Omnibus:                    15874.876   Durbin-Watson:                   1.861\n",
      "Prob(Omnibus):                  0.000   Jarque-Bera (JB):            25186.998\n",
      "Skew:                          -0.469   Prob(JB):                         0.00\n",
      "Kurtosis:                       4.111   Cond. No.                     2.29e+04\n",
      "==============================================================================\n",
      "\n",
      "Warnings:\n",
      "[1] Standard Errors assume that the covariance matrix of the errors is correctly specified.\n",
      "[2] The condition number is large, 2.29e+04. This might indicate that there are\n",
      "strong multicollinearity or other numerical problems.\n"
     ]
    }
   ],
   "source": [
    "# Dropping the Dancing Variable\n",
    "X_drop_dancing = X_drop_seating.drop('Business - Good For Dancing', axis = 1)\n",
    "\n",
    "# Running the regression\n",
    "result = smf.OLS(Y, X_drop_dancing.astype(float)).fit()\n",
    "print result.summary()"
   ]
  },
  {
   "cell_type": "code",
   "execution_count": 15,
   "metadata": {},
   "outputs": [],
   "source": [
    "# Splitting the dataset into the Training set and Test set\n",
    "# Note: splitting from latest model\n",
    "X_train, X_test, y_train, y_test = train_test_split(X_drop_dancing, Y, test_size = 0.2, random_state = 0)"
   ]
  },
  {
   "cell_type": "code",
   "execution_count": 31,
   "metadata": {},
   "outputs": [
    {
     "name": "stdout",
     "output_type": "stream",
     "text": [
      "The average difference between predicted rating and actual rating is 0.403681408357\n"
     ]
    }
   ],
   "source": [
    "# Fitting Multiple Linear Regression to the Training set\n",
    "# Same as Simple Linear Regression\n",
    "from sklearn.linear_model import LinearRegression\n",
    "regressor = LinearRegression()\n",
    "regressor.fit(X_train, y_train)\n",
    "\n",
    "# Predicting the Test set results\n",
    "y_pred = regressor.predict(X_test)\n",
    "\n",
    "# Analyizing how accurate the test was\n",
    "results = y_pred - y_test\n",
    "score = sum(abs(results))/57153\n",
    "print \"The average difference between predicted rating and actual rating is %s\" % (score)"
   ]
  },
  {
   "cell_type": "code",
   "execution_count": 17,
   "metadata": {},
   "outputs": [
    {
     "name": "stdout",
     "output_type": "stream",
     "text": [
      "                            OLS Regression Results                            \n",
      "==============================================================================\n",
      "Dep. Variable:       Business - Stars   R-squared:                       0.032\n",
      "Model:                            OLS   Adj. R-squared:                  0.032\n",
      "Method:                 Least Squares   F-statistic:                     9416.\n",
      "Date:                Sat, 16 Sep 2017   Prob (F-statistic):               0.00\n",
      "Time:                        13:17:00   Log-Likelihood:            -2.1440e+05\n",
      "No. Observations:              285764   AIC:                         4.288e+05\n",
      "Df Residuals:                  285762   BIC:                         4.288e+05\n",
      "Df Model:                           1                                         \n",
      "Covariance Type:            nonrobust                                         \n",
      "========================================================================================\n",
      "                           coef    std err          t      P>|t|      [0.025      0.975]\n",
      "----------------------------------------------------------------------------------------\n",
      "User - Average Stars     0.1410      0.001     97.038      0.000       0.138       0.144\n",
      "Intercept                3.2160      0.006    581.078      0.000       3.205       3.227\n",
      "==============================================================================\n",
      "Omnibus:                    31496.670   Durbin-Watson:                   1.770\n",
      "Prob(Omnibus):                  0.000   Jarque-Bera (JB):            49372.298\n",
      "Skew:                          -0.803   Prob(JB):                         0.00\n",
      "Kurtosis:                       4.251   Cond. No.                         23.5\n",
      "==============================================================================\n",
      "\n",
      "Warnings:\n",
      "[1] Standard Errors assume that the covariance matrix of the errors is correctly specified.\n"
     ]
    }
   ],
   "source": [
    "# Picking which regressions to run\n",
    "# Need to take the intercept for every model\n",
    "\n",
    "# Running regression on Users average rating\n",
    "user_stars = X[['User - Average Stars', 'Intercept']]\n",
    "\n",
    "# Running the regression\n",
    "result = smf.OLS(Y, user_stars.astype(float)).fit()\n",
    "print result.summary()"
   ]
  },
  {
   "cell_type": "code",
   "execution_count": 18,
   "metadata": {},
   "outputs": [
    {
     "name": "stdout",
     "output_type": "stream",
     "text": [
      "0.41016688784\n"
     ]
    }
   ],
   "source": [
    "# Testing the ability of the model\n",
    "# Splitting the dataset into the Training set and Test set\n",
    "X_train, X_test, y_train, y_test = train_test_split(user_stars, Y, test_size = 0.2, random_state = 0)\n",
    "\n",
    "# Fitting Multiple Linear Regression to the Training set\n",
    "# Same as Simple Linear Regression\n",
    "from sklearn.linear_model import LinearRegression\n",
    "regressor = LinearRegression()\n",
    "regressor.fit(X_train, y_train)\n",
    "\n",
    "# Predicting the Test set results\n",
    "y_pred = regressor.predict(X_test)\n",
    "\n",
    "# Analyizing how accurate the test was\n",
    "results = y_pred - y_test\n",
    "score = sum(abs(results))/57153\n",
    "print \"The average difference between predicted rating and actual rating is %s\" % (score)"
   ]
  },
  {
   "cell_type": "code",
   "execution_count": 19,
   "metadata": {},
   "outputs": [
    {
     "name": "stdout",
     "output_type": "stream",
     "text": [
      "                            OLS Regression Results                            \n",
      "==============================================================================\n",
      "Dep. Variable:       Business - Stars   R-squared:                       0.015\n",
      "Model:                            OLS   Adj. R-squared:                  0.015\n",
      "Method:                 Least Squares   F-statistic:                     2157.\n",
      "Date:                Sat, 16 Sep 2017   Prob (F-statistic):               0.00\n",
      "Time:                        13:17:32   Log-Likelihood:            -2.1689e+05\n",
      "No. Observations:              285764   AIC:                         4.338e+05\n",
      "Df Residuals:                  285761   BIC:                         4.338e+05\n",
      "Df Model:                           2                                         \n",
      "Covariance Type:            nonrobust                                         \n",
      "==============================================================================\n",
      "                 coef    std err          t      P>|t|      [0.025      0.975]\n",
      "------------------------------------------------------------------------------\n",
      "dressy         0.8212      0.013     64.564      0.000       0.796       0.846\n",
      "casual         0.6085      0.012     52.805      0.000       0.586       0.631\n",
      "Intercept      3.1342      0.011    272.997      0.000       3.112       3.157\n",
      "==============================================================================\n",
      "Omnibus:                    30332.236   Durbin-Watson:                   1.768\n",
      "Prob(Omnibus):                  0.000   Jarque-Bera (JB):            47652.038\n",
      "Skew:                          -0.778   Prob(JB):                         0.00\n",
      "Kurtosis:                       4.257   Cond. No.                         29.1\n",
      "==============================================================================\n",
      "\n",
      "Warnings:\n",
      "[1] Standard Errors assume that the covariance matrix of the errors is correctly specified.\n"
     ]
    }
   ],
   "source": [
    "# Running regression on Dress Code\n",
    "user_dress_code = X[['dressy', 'casual', 'Intercept']]\n",
    "\n",
    "# Running the regression\n",
    "result = smf.OLS(Y, user_dress_code.astype(float)).fit()\n",
    "print result.summary()"
   ]
  },
  {
   "cell_type": "code",
   "execution_count": 20,
   "metadata": {},
   "outputs": [
    {
     "name": "stdout",
     "output_type": "stream",
     "text": [
      "0.417201633986\n"
     ]
    }
   ],
   "source": [
    "# Testing the ability of the model\n",
    "# Splitting the dataset into the Training set and Test set\n",
    "X_train, X_test, y_train, y_test = train_test_split(user_dress_code, Y, test_size = 0.2, random_state = 0)\n",
    "\n",
    "# Fitting Multiple Linear Regression to the Training set\n",
    "# Same as Simple Linear Regression\n",
    "from sklearn.linear_model import LinearRegression\n",
    "regressor = LinearRegression()\n",
    "regressor.fit(X_train, y_train)\n",
    "\n",
    "# Predicting the Test set results\n",
    "y_pred = regressor.predict(X_test)\n",
    "\n",
    "# Analyizing how accurate the test was\n",
    "results = y_pred - y_test\n",
    "score = sum(abs(results))/57153\n",
    "print \"The average difference between predicted rating and actual rating is %s\" % (score)"
   ]
  },
  {
   "cell_type": "code",
   "execution_count": 21,
   "metadata": {},
   "outputs": [
    {
     "name": "stdout",
     "output_type": "stream",
     "text": [
      "                            OLS Regression Results                            \n",
      "==============================================================================\n",
      "Dep. Variable:       Business - Stars   R-squared:                       0.129\n",
      "Model:                            OLS   Adj. R-squared:                  0.129\n",
      "Method:                 Least Squares   F-statistic:                 4.224e+04\n",
      "Date:                Sat, 16 Sep 2017   Prob (F-statistic):               0.00\n",
      "Time:                        13:18:07   Log-Likelihood:            -1.9934e+05\n",
      "No. Observations:              285764   AIC:                         3.987e+05\n",
      "Df Residuals:                  285762   BIC:                         3.987e+05\n",
      "Df Model:                           1                                         \n",
      "Covariance Type:            nonrobust                                         \n",
      "===========================================================================================\n",
      "                              coef    std err          t      P>|t|      [0.025      0.975]\n",
      "-------------------------------------------------------------------------------------------\n",
      "Business - Review Count     0.0009   4.33e-06    205.513      0.000       0.001       0.001\n",
      "Intercept                   3.5762      0.001   2918.861      0.000       3.574       3.579\n",
      "==============================================================================\n",
      "Omnibus:                    25725.104   Durbin-Watson:                   1.765\n",
      "Prob(Omnibus):                  0.000   Jarque-Bera (JB):            43843.479\n",
      "Skew:                          -0.653   Prob(JB):                         0.00\n",
      "Kurtosis:                       4.405   Cond. No.                         382.\n",
      "==============================================================================\n",
      "\n",
      "Warnings:\n",
      "[1] Standard Errors assume that the covariance matrix of the errors is correctly specified.\n"
     ]
    }
   ],
   "source": [
    "# Running regression on Business Review Count\n",
    "user_review_count = X[['Business - Review Count', 'Intercept']]\n",
    "\n",
    "# Running the regression\n",
    "result = smf.OLS(Y, user_review_count.astype(float)).fit()\n",
    "print result.summary()"
   ]
  },
  {
   "cell_type": "code",
   "execution_count": 22,
   "metadata": {},
   "outputs": [
    {
     "name": "stdout",
     "output_type": "stream",
     "text": [
      "0.37919333469\n"
     ]
    }
   ],
   "source": [
    "# Testing the ability of the model\n",
    "# Splitting the dataset into the Training set and Test set\n",
    "X_train, X_test, y_train, y_test = train_test_split(user_review_count, Y, test_size = 0.2, random_state = 0)\n",
    "\n",
    "# Fitting Multiple Linear Regression to the Training set\n",
    "# Same as Simple Linear Regression\n",
    "from sklearn.linear_model import LinearRegression\n",
    "regressor = LinearRegression()\n",
    "regressor.fit(X_train, y_train)\n",
    "\n",
    "# Predicting the Test set results\n",
    "y_pred = regressor.predict(X_test)\n",
    "\n",
    "# Analyizing how accurate the test was\n",
    "results = y_pred - y_test\n",
    "score = sum(abs(results))/57153\n",
    "print \"The average difference between predicted rating and actual rating is %s\" % (score)"
   ]
  },
  {
   "cell_type": "code",
   "execution_count": 23,
   "metadata": {},
   "outputs": [
    {
     "name": "stdout",
     "output_type": "stream",
     "text": [
      "                            OLS Regression Results                            \n",
      "==============================================================================\n",
      "Dep. Variable:       Business - Stars   R-squared:                       0.002\n",
      "Model:                            OLS   Adj. R-squared:                  0.002\n",
      "Method:                 Least Squares   F-statistic:                     482.7\n",
      "Date:                Sat, 16 Sep 2017   Prob (F-statistic):          6.82e-107\n",
      "Time:                        13:18:42   Log-Likelihood:            -2.1879e+05\n",
      "No. Observations:              285764   AIC:                         4.376e+05\n",
      "Df Residuals:                  285762   BIC:                         4.376e+05\n",
      "Df Model:                           1                                         \n",
      "Covariance Type:            nonrobust                                         \n",
      "==========================================================================================\n",
      "                             coef    std err          t      P>|t|      [0.025      0.975]\n",
      "------------------------------------------------------------------------------------------\n",
      "Business - Price Range     0.0354      0.002     21.970      0.000       0.032       0.039\n",
      "Intercept                  3.6827      0.003   1229.618      0.000       3.677       3.689\n",
      "==============================================================================\n",
      "Omnibus:                    32565.048   Durbin-Watson:                   1.761\n",
      "Prob(Omnibus):                  0.000   Jarque-Bera (JB):            51901.848\n",
      "Skew:                          -0.818   Prob(JB):                         0.00\n",
      "Kurtosis:                       4.297   Cond. No.                         7.24\n",
      "==============================================================================\n",
      "\n",
      "Warnings:\n",
      "[1] Standard Errors assume that the covariance matrix of the errors is correctly specified.\n"
     ]
    }
   ],
   "source": [
    "# Running regression on Business Price Range\n",
    "user_price = X[['Business - Price Range', 'Intercept']]\n",
    "\n",
    "# Running the regression\n",
    "result = smf.OLS(Y, user_price.astype(float)).fit()\n",
    "print result.summary()"
   ]
  },
  {
   "cell_type": "code",
   "execution_count": 24,
   "metadata": {},
   "outputs": [
    {
     "name": "stdout",
     "output_type": "stream",
     "text": [
      "0.420801737701\n"
     ]
    }
   ],
   "source": [
    "# Testing the ability of the model\n",
    "# Splitting the dataset into the Training set and Test set\n",
    "X_train, X_test, y_train, y_test = train_test_split(user_price, Y, test_size = 0.2, random_state = 0)\n",
    "\n",
    "# Fitting Multiple Linear Regression to the Training set\n",
    "# Same as Simple Linear Regression\n",
    "from sklearn.linear_model import LinearRegression\n",
    "regressor = LinearRegression()\n",
    "regressor.fit(X_train, y_train)\n",
    "\n",
    "# Predicting the Test set results\n",
    "y_pred = regressor.predict(X_test)\n",
    "\n",
    "# Analyizing how accurate the test was\n",
    "results = y_pred - y_test\n",
    "score = sum(abs(results))/57153\n",
    "print \"The average difference between predicted rating and actual rating is %s\" % (score)"
   ]
  },
  {
   "cell_type": "code",
   "execution_count": 25,
   "metadata": {},
   "outputs": [
    {
     "name": "stdout",
     "output_type": "stream",
     "text": [
      "                            OLS Regression Results                            \n",
      "==============================================================================\n",
      "Dep. Variable:       Business - Stars   R-squared:                       0.002\n",
      "Model:                            OLS   Adj. R-squared:                  0.002\n",
      "Method:                 Least Squares   F-statistic:                     543.7\n",
      "Date:                Sat, 16 Sep 2017   Prob (F-statistic):          3.85e-120\n",
      "Time:                        13:19:14   Log-Likelihood:            -2.1876e+05\n",
      "No. Observations:              285764   AIC:                         4.375e+05\n",
      "Df Residuals:                  285762   BIC:                         4.376e+05\n",
      "Df Model:                           1                                         \n",
      "Covariance Type:            nonrobust                                         \n",
      "===================================================================================================\n",
      "                                      coef    std err          t      P>|t|      [0.025      0.975]\n",
      "---------------------------------------------------------------------------------------------------\n",
      "Business - Accepts Credit Cards     0.2104      0.009     23.317      0.000       0.193       0.228\n",
      "Intercept                           3.5370      0.009    394.246      0.000       3.519       3.555\n",
      "==============================================================================\n",
      "Omnibus:                    32712.928   Durbin-Watson:                   1.763\n",
      "Prob(Omnibus):                  0.000   Jarque-Bera (JB):            51891.801\n",
      "Skew:                          -0.823   Prob(JB):                         0.00\n",
      "Kurtosis:                       4.284   Cond. No.                         18.4\n",
      "==============================================================================\n",
      "\n",
      "Warnings:\n",
      "[1] Standard Errors assume that the covariance matrix of the errors is correctly specified.\n"
     ]
    }
   ],
   "source": [
    "# Running regression on Business Accepts Credit Cards\n",
    "user_cards = X[['Business - Accepts Credit Cards', 'Intercept']]\n",
    "\n",
    "# Running the regression\n",
    "result = smf.OLS(Y, user_cards.astype(float)).fit()\n",
    "print result.summary()"
   ]
  },
  {
   "cell_type": "code",
   "execution_count": 26,
   "metadata": {},
   "outputs": [
    {
     "name": "stdout",
     "output_type": "stream",
     "text": [
      "0.421820800631\n"
     ]
    }
   ],
   "source": [
    "# Testing the ability of the model\n",
    "# Splitting the dataset into the Training set and Test set\n",
    "X_train, X_test, y_train, y_test = train_test_split(user_cards, Y, test_size = 0.2, random_state = 0)\n",
    "\n",
    "# Fitting Multiple Linear Regression to the Training set\n",
    "# Same as Simple Linear Regression\n",
    "from sklearn.linear_model import LinearRegression\n",
    "regressor = LinearRegression()\n",
    "regressor.fit(X_train, y_train)\n",
    "\n",
    "# Predicting the Test set results\n",
    "y_pred = regressor.predict(X_test)\n",
    "\n",
    "# Analyizing how accurate the test was\n",
    "results = y_pred - y_test\n",
    "score = sum(abs(results))/57153\n",
    "print \"The average difference between predicted rating and actual rating is %s\" % (score)"
   ]
  },
  {
   "cell_type": "code",
   "execution_count": 27,
   "metadata": {},
   "outputs": [
    {
     "name": "stdout",
     "output_type": "stream",
     "text": [
      "                            OLS Regression Results                            \n",
      "==============================================================================\n",
      "Dep. Variable:       Business - Stars   R-squared:                       0.037\n",
      "Model:                            OLS   Adj. R-squared:                  0.037\n",
      "Method:                 Least Squares   F-statistic:                     1555.\n",
      "Date:                Sat, 16 Sep 2017   Prob (F-statistic):               0.00\n",
      "Time:                        13:19:48   Log-Likelihood:            -2.1369e+05\n",
      "No. Observations:              285764   AIC:                         4.274e+05\n",
      "Df Residuals:                  285756   BIC:                         4.275e+05\n",
      "Df Model:                           7                                         \n",
      "Covariance Type:            nonrobust                                         \n",
      "===================================================================================================\n",
      "                                      coef    std err          t      P>|t|      [0.025      0.975]\n",
      "---------------------------------------------------------------------------------------------------\n",
      "Business - Accepts Credit Cards     0.2406      0.009     26.903      0.000       0.223       0.258\n",
      "Business - Happy Hour              -0.0328      0.007     -4.904      0.000      -0.046      -0.020\n",
      "Business - Has TV                  -0.1505      0.002    -71.362      0.000      -0.155      -0.146\n",
      "beer_and_wine                       0.1393      0.003     46.742      0.000       0.133       0.145\n",
      "full_bar                            0.0045      0.002      1.797      0.072      -0.000       0.009\n",
      "no_smoking                          0.1532      0.007     21.813      0.000       0.139       0.167\n",
      "outdoor_smoking                     0.0007      0.007      0.107      0.915      -0.013       0.014\n",
      "Intercept                           3.5664      0.009    402.969      0.000       3.549       3.584\n",
      "==============================================================================\n",
      "Omnibus:                    35823.663   Durbin-Watson:                   1.772\n",
      "Prob(Omnibus):                  0.000   Jarque-Bera (JB):            61315.332\n",
      "Skew:                          -0.853   Prob(JB):                         0.00\n",
      "Kurtosis:                       4.497   Cond. No.                         21.9\n",
      "==============================================================================\n",
      "\n",
      "Warnings:\n",
      "[1] Standard Errors assume that the covariance matrix of the errors is correctly specified.\n"
     ]
    }
   ],
   "source": [
    "# Running regression on Personal Choice Variables\n",
    "user_pc = X[['Business - Accepts Credit Cards', 'Business - Happy Hour',\n",
    "             'Business - Has TV', 'beer_and_wine','full_bar',\n",
    "             'no_smoking', 'outdoor_smoking','Intercept']]\n",
    "\n",
    "# Running the regression\n",
    "result = smf.OLS(Y, user_pc.astype(float)).fit()\n",
    "print result.summary()"
   ]
  },
  {
   "cell_type": "code",
   "execution_count": 29,
   "metadata": {},
   "outputs": [
    {
     "name": "stdout",
     "output_type": "stream",
     "text": [
      "0.403681408357\n"
     ]
    }
   ],
   "source": [
    "# Testing the ability of the model\n",
    "# Splitting the dataset into the Training set and Test set\n",
    "X_train, X_test, y_train, y_test = train_test_split(user_pc, Y, test_size = 0.2, random_state = 0)\n",
    "\n",
    "# Fitting Multiple Linear Regression to the Training set\n",
    "# Same as Simple Linear Regression\n",
    "from sklearn.linear_model import LinearRegression\n",
    "regressor = LinearRegression()\n",
    "regressor.fit(X_train, y_train)\n",
    "\n",
    "# Predicting the Test set results\n",
    "y_pred = regressor.predict(X_test)\n",
    "\n",
    "# Analyizing how accurate the test was\n",
    "results = y_pred - y_test\n",
    "score = sum(abs(results))/57153\n",
    "print \"The average difference between predicted rating and actual rating is %s\" % (score)"
   ]
  }
 ],
 "metadata": {
  "kernelspec": {
   "display_name": "Python 2",
   "language": "python",
   "name": "python2"
  },
  "language_info": {
   "codemirror_mode": {
    "name": "ipython",
    "version": 2
   },
   "file_extension": ".py",
   "mimetype": "text/x-python",
   "name": "python",
   "nbconvert_exporter": "python",
   "pygments_lexer": "ipython2",
   "version": "2.7.13"
  }
 },
 "nbformat": 4,
 "nbformat_minor": 2
}
